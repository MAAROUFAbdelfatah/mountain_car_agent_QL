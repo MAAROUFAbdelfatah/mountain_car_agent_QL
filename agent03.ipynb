{
 "cells": [
  {
   "cell_type": "markdown",
   "metadata": {},
   "source": [
    "Environment: OpenAI GYM"
   ]
  },
  {
   "cell_type": "code",
   "execution_count": 1,
   "metadata": {},
   "outputs": [],
   "source": [
    "import gym\n",
    "import random"
   ]
  },
  {
   "cell_type": "code",
   "execution_count": 3,
   "metadata": {},
   "outputs": [
    {
     "data": {
      "text/plain": [
       "(2, 3)"
      ]
     },
     "execution_count": 3,
     "metadata": {},
     "output_type": "execute_result"
    }
   ],
   "source": [
    "env = gym.make('MountainCar-v0')\n",
    "states = env.observation_space.shape[0]\n",
    "actions = env.action_space.n\n",
    "states, actions"
   ]
  },
  {
   "cell_type": "code",
   "execution_count": 7,
   "metadata": {},
   "outputs": [
    {
     "name": "stdout",
     "output_type": "stream",
     "text": [
      "Episode: 1 Scoure: -200.0\n",
      "Episode: 2 Scoure: -200.0\n",
      "Episode: 3 Scoure: -200.0\n",
      "Episode: 4 Scoure: -200.0\n",
      "Episode: 5 Scoure: -200.0\n",
      "Episode: 6 Scoure: -200.0\n",
      "Episode: 7 Scoure: -200.0\n",
      "Episode: 8 Scoure: -200.0\n",
      "Episode: 9 Scoure: -200.0\n",
      "Episode: 10 Scoure: -200.0\n"
     ]
    }
   ],
   "source": [
    "episodes = 10\n",
    "\n",
    "for episode in range(1, episodes + 1):\n",
    "    state = env.reset()\n",
    "    done = False\n",
    "    score = 0\n",
    "    while not done:\n",
    "        env.render()\n",
    "        action = random.choice([0, 1, 2])\n",
    "        new_state, reward, done, _ = env.step(action)\n",
    "        score += reward\n",
    "    print('Episode: {} Scoure: {}'.format(episode, score))\n",
    "env.close()"
   ]
  },
  {
   "cell_type": "code",
   "execution_count": null,
   "metadata": {},
   "outputs": [],
   "source": []
  }
 ],
 "metadata": {
  "interpreter": {
   "hash": "a6ca2a9fb1ca812429639c641bd7504566053079312bacebf19dd7f0975d7f44"
  },
  "kernelspec": {
   "display_name": "Python 3.9.12 ('gym')",
   "language": "python",
   "name": "python3"
  },
  "language_info": {
   "codemirror_mode": {
    "name": "ipython",
    "version": 3
   },
   "file_extension": ".py",
   "mimetype": "text/x-python",
   "name": "python",
   "nbconvert_exporter": "python",
   "pygments_lexer": "ipython3",
   "version": "3.9.12"
  },
  "orig_nbformat": 4
 },
 "nbformat": 4,
 "nbformat_minor": 2
}
